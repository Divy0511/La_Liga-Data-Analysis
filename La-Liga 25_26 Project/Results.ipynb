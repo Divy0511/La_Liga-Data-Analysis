{
 "cells": [
  {
   "cell_type": "markdown",
   "id": "3324b922",
   "metadata": {},
   "source": [
    "## Historical Title-Winning Requirements in La Liga\n",
    "\n",
    "Based on the analysis of the last 11 seasons (2014-2025), to win La Liga, a team typically needs:\n",
    "\n",
    "### Key Metrics for Championship Success\n",
    "\n",
    "- **Points Target**: ~90 points per season\n",
    "- **Wins Required**: 28 matches (73% win rate)\n",
    "- **Points per Match**: 2.3+ points\n",
    "\n",
    "### Championship Patterns\n",
    "\n",
    "Over the past decade, successful title campaigns have consistently demonstrated:\n",
    "\n",
    "1. Maintaining a win rate above 70% throughout the season\n",
    "2. Securing at least 85-95 points from 38 matches \n",
    "3. Averaging more than 2.3 points per match\n",
    "\n",
    "This data suggests that to be serious title contenders, teams must demonstrate remarkable consistency while maintaining an exceptionally high win percentage across the entire campaign."
   ]
  },
  {
   "cell_type": "markdown",
   "id": "465825ac",
   "metadata": {},
   "source": [
    " ## Historical Top 4 Finish Requirements in La Liga\n",
    "Based on the analysis of the last 11 seasons, to secure a top 4 spot in La Liga and qualify for the Champions League, a team typically needs:\n",
    "\n",
    "### Key Metrics for Top 4 Success\n",
    "- **Points Target**: ~71 points per season\n",
    "- **Wins Required**: 20 matches (~53% win rate)\n",
    "- **Points per Match**: ~1.9 points\n",
    "\n",
    "Top 4 Qualification Patterns\n",
    "Over the past decade, successful top 4 campaigns have consistently demonstrated:\n",
    "\n",
    "1. Maintaining a win rate of over 50% throughout the season.\n",
    "2. Securing at least 70-72 points from 38 matches.\n",
    "3. Averaging nearly 1.9 points per match.\n",
    "\n",
    "This data suggests that to be serious contenders for a Champions League spot, teams must demonstrate strong consistency and secure wins in over half of their matches across the entire campaign."
   ]
  },
  {
   "cell_type": "markdown",
   "id": "fe9a84be",
   "metadata": {},
   "source": [
    "## Historical Europa League Qualification Requirements (5th Place)\n",
    "Based on the analysis of the last 11 seasons, to secure a 5th place spot in La Liga and qualify for the Europa League, a team typically needs:\n",
    "\n",
    "### Key Metrics for Europa League Success\n",
    "\n",
    "- **Points Target**: ~65 points per season\n",
    "- **Wins Required**: 19 matches (~49% win rate)\n",
    "- **Points per Match**: ~1.7 points\n",
    "\n",
    "\n",
    "Europa League Qualification Patterns Over the past decade, successful 5th place campaigns have consistently demonstrated:\n",
    "\n",
    "1. Maintaining a win rate approaching 50% throughout the season.\n",
    "2. Securing at least 60-65 points from 38 matches.\n",
    "3. Averaging around 1.7 points per match.\n",
    "\n",
    "This data suggests that to contend for a Europa League spot, teams must win nearly half their games and consistently collect points to stay ahead of the competitive mid-table pack.\n",
    "\n"
   ]
  },
  {
   "cell_type": "markdown",
   "id": "cf327fdb",
   "metadata": {},
   "source": [
    "## Historical Conference League Qualification Requirements (6th Place)\n",
    "Based on the analysis of the last 11 seasons, to secure a 6th place spot in La Liga and qualify for the Conference League, a team typically needs:\n",
    "\n",
    "### Key Metrics for Conference League Success\n",
    "\n",
    "- **Points Target**: ~60 points per season\n",
    "- **Wins Required**: 17 matches (~45% win rate)\n",
    "- **Points per Match**: ~1.6 points\n",
    "\n",
    "Conference League Qualification Patterns Over the past decade, successful 6th place campaigns have consistently demonstrated:\n",
    "\n",
    "1. Maintaining a win rate of over 40% throughout the season.\n",
    "2. Securing approximately 60 points from 38 matches.\n",
    "3. Averaging around 1.6 points per match.\n",
    "\n",
    "This data indicates that a Conference League spot is achievable for teams that demonstrate solid consistency, secure wins in over 40% of their matches, and successfully avoid prolonged losing streaks."
   ]
  },
  {
   "cell_type": "markdown",
   "id": "5e5736fb",
   "metadata": {},
   "source": [
    "## Historical Relegation Survival Requirements (17th Place)\n",
    "Based on an analysis of the last 11 seasons, to secure 17th place and avoid relegation from La Liga, a team must meet a specific, yet achievable, set of performance benchmarks. The data reveals a clear threshold for survival.\n",
    "\n",
    "### Key Metrics for La Liga Survival\n",
    "\n",
    "- **Points Target**: ~39 points per season\n",
    "- **Wins Required**: 9 matches (~24% win rate)\n",
    "- **Points per Match**: ~1.0 point\n",
    "\n",
    "Relegation Survival Patterns\n",
    "To stay in La Liga, teams have consistently demonstrated the ability to:\n",
    "\n",
    "1. Achieve the \"Point-a-Game\" Benchmark: The most consistent pattern is securing roughly one point for every match played, culminating in a total near the high 30s.\n",
    "2. Utilize Draws to Secure Points: With a low average of just 9 wins, securing points through draws is essential. Teams often survive with 10-15 draws, turning potential losses into valuable points.\n",
    "3. Win Key \"Six-Pointer\" Matches: While winning only about a quarter of their games, successful survival campaigns often hinge on winning crucial matches against direct relegation rivals to stay ahead.\n",
    "\n",
    "This data highlights that survival in La Liga is a battle of attrition. It is less about consistent winning and more about grinding out results, especially draws, to ensure the points tally ticks over the crucial ~39-point safety line."
   ]
  },
  {
   "cell_type": "markdown",
   "id": "cacea64c",
   "metadata": {},
   "source": [
    "   \n",
    "### Predicted Table for La_Liga 25_26\n",
    "\n",
    "\n",
    "        Pos        Team              Predicted_Points    Predicted_Win_Matches\n",
    "        1.      Barcelona             90.63                26.6342\n",
    "        2.      Real Madrid           89.02                25.9996\n",
    "        3.      Atletico Madrid       81.70                23.0014\n",
    "        4.      Sevilla               63.46                16.9100\n",
    "        5.      Villarreal            63.02                16.6364\n",
    "        6.      Athletic Bilbao       58.97                14.9986\n",
    "        7.      Real Sociedad         58.63                15.4546\n",
    "        8.      Valencia              55.51                13.9080\n",
    "        9.      Real Betis            53.88                14.5996\n",
    "        10.     Celta Vigo            49.80                12.3652\n",
    "        11.     Getafe                44.48                11.0998\n",
    "        12.     Espanyol              41.84                11.1112\n",
    "        13.     Alaves                39.25                11.3734\n",
    "        14.     Girona                38.79                14.3982\n",
    "        15.     Osasuna               38.17                11.2860\n",
    "        16.     Rayo Vallecano        36.47                11.0010\n",
    "        17.     Levante               34.53                 9.9978\n",
    "        18.     Mallorca              31.59                10.7996\n",
    "        19.     Elche                 25.25                 8.7514\n",
    "        20.     Oviedo            (First Season In La-Liga, no previous data)      "
   ]
  },
  {
   "cell_type": "markdown",
   "id": "008ee1a1",
   "metadata": {},
   "source": []
  }
 ],
 "metadata": {
  "kernelspec": {
   "display_name": "Python 3",
   "language": "python",
   "name": "python3"
  },
  "language_info": {
   "name": "python",
   "version": "3.13.7"
  }
 },
 "nbformat": 4,
 "nbformat_minor": 5
}
